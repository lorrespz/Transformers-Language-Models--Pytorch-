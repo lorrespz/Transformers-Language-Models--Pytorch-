{
  "nbformat": 4,
  "nbformat_minor": 0,
  "metadata": {
    "colab": {
      "provenance": [],
      "gpuType": "T4",
      "authorship_tag": "ABX9TyN7LemGltBLZ/dPW6JuKynY",
      "include_colab_link": true
    },
    "kernelspec": {
      "name": "python3",
      "display_name": "Python 3"
    },
    "language_info": {
      "name": "python"
    },
    "accelerator": "GPU"
  },
  "cells": [
    {
      "cell_type": "markdown",
      "metadata": {
        "id": "view-in-github",
        "colab_type": "text"
      },
      "source": [
        "<a href=\"https://colab.research.google.com/github/lorrespz/Transformers-Language-Models--Pytorch-/blob/main/Seq2Seq_LSTM2LSTM_Language_Translation_%5BTensorFlow%5D.ipynb\" target=\"_parent\"><img src=\"https://colab.research.google.com/assets/colab-badge.svg\" alt=\"Open In Colab\"/></a>"
      ]
    },
    {
      "cell_type": "markdown",
      "source": [
        "# Seq2Seq-LSTM-Translation-[TensorFlow]\n",
        "\n",
        "This code is from Lazy Programmer's NLP3 course."
      ],
      "metadata": {
        "id": "cq8c8M3DbrVi"
      }
    },
    {
      "cell_type": "code",
      "execution_count": 1,
      "metadata": {
        "id": "nLEErtt_YkzQ"
      },
      "outputs": [],
      "source": [
        "import os, sys\n",
        "\n",
        "from keras.models import Model\n",
        "from keras.layers import Input, LSTM, GRU, Dense, Embedding\n",
        "from keras.preprocessing.text import Tokenizer\n",
        "from keras.preprocessing.sequence import pad_sequences\n",
        "from keras.utils import to_categorical\n",
        "import numpy as np\n",
        "import matplotlib.pyplot as plt"
      ]
    },
    {
      "cell_type": "code",
      "source": [
        "import keras.backend as K"
      ],
      "metadata": {
        "id": "iyn8xR8SYvrw"
      },
      "execution_count": 2,
      "outputs": []
    },
    {
      "cell_type": "code",
      "source": [
        "# some config\n",
        "BATCH_SIZE = 64  # Batch size for training.\n",
        "EPOCHS = 40  # Number of epochs to train for.\n",
        "LATENT_DIM = 256  # Latent dimensionality of the encoding space.\n",
        "NUM_SAMPLES = 10000  # Number of samples to train on.\n",
        "MAX_NUM_WORDS = 20000\n",
        "EMBEDDING_DIM = 100\n",
        "\n"
      ],
      "metadata": {
        "id": "Fr9mHVa9Yxvy"
      },
      "execution_count": 3,
      "outputs": []
    },
    {
      "cell_type": "markdown",
      "source": [
        "# Dataset: English to Spanish translation"
      ],
      "metadata": {
        "id": "15KPHkPXcN5U"
      }
    },
    {
      "cell_type": "code",
      "source": [
        "!wget -nc https://lazyprogrammer.me/course_files/nlp3/spa.txt"
      ],
      "metadata": {
        "colab": {
          "base_uri": "https://localhost:8080/"
        },
        "id": "hQm5NyS6cJwS",
        "outputId": "eb98ac2a-9692-484c-b56c-f1f32634cff7"
      },
      "execution_count": 4,
      "outputs": [
        {
          "output_type": "stream",
          "name": "stdout",
          "text": [
            "--2024-03-19 11:24:23--  https://lazyprogrammer.me/course_files/nlp3/spa.txt\n",
            "Resolving lazyprogrammer.me (lazyprogrammer.me)... 172.67.213.166, 104.21.23.210, 2606:4700:3030::ac43:d5a6, ...\n",
            "Connecting to lazyprogrammer.me (lazyprogrammer.me)|172.67.213.166|:443... connected.\n",
            "HTTP request sent, awaiting response... 200 OK\n",
            "Length: unspecified [text/plain]\n",
            "Saving to: ‘spa.txt’\n",
            "\n",
            "spa.txt                 [ <=>                ]   7.45M  --.-KB/s    in 0.1s    \n",
            "\n",
            "2024-03-19 11:24:23 (49.7 MB/s) - ‘spa.txt’ saved [7817148]\n",
            "\n"
          ]
        }
      ]
    },
    {
      "cell_type": "markdown",
      "source": [
        "# Process the dataset to create input, target"
      ],
      "metadata": {
        "id": "VQ-HP-0VdWoB"
      }
    },
    {
      "cell_type": "code",
      "source": [
        "# Where we will store the data\n",
        "input_texts = [] # sentence in original language\n",
        "target_texts = [] # sentence in target language\n",
        "target_texts_inputs = [] # sentence in target language offset by 1\n",
        "\n",
        "t = 0\n",
        "for line in open('spa.txt'):\n",
        "  # only keep a limited number of samples\n",
        "  t += 1\n",
        "  if t > NUM_SAMPLES:\n",
        "    break\n",
        "\n",
        "  # input and target are separated by tab\n",
        "  if '\\t' not in line:\n",
        "    continue\n",
        "\n",
        "   # split up the input and translation\n",
        "  input_text, translation, *rest = line.rstrip().split('\\t')\n",
        "\n",
        "  # make the target input and output\n",
        "  # recall we'll be using teacher forcing\n",
        "  target_text = translation + ' <eos>'\n",
        "  target_text_input = '<sos> ' + translation\n",
        "\n",
        "  input_texts.append(input_text)\n",
        "  target_texts.append(target_text)\n",
        "  target_texts_inputs.append(target_text_input)\n",
        "print(\"num samples:\", len(input_texts))"
      ],
      "metadata": {
        "colab": {
          "base_uri": "https://localhost:8080/"
        },
        "id": "7ZtUicnAcKmG",
        "outputId": "dd1da2f2-bc2f-4dbb-d630-385f3ba90887"
      },
      "execution_count": 5,
      "outputs": [
        {
          "output_type": "stream",
          "name": "stdout",
          "text": [
            "num samples: 10000\n"
          ]
        }
      ]
    },
    {
      "cell_type": "code",
      "source": [
        "line"
      ],
      "metadata": {
        "colab": {
          "base_uri": "https://localhost:8080/",
          "height": 35
        },
        "id": "BHVmXdRbcosw",
        "outputId": "67f15d7d-79c4-4549-9ea6-c71f99dd5510"
      },
      "execution_count": 6,
      "outputs": [
        {
          "output_type": "execute_result",
          "data": {
            "text/plain": [
              "\"I'm a little shy.\\tSoy un poco tímido.\\n\""
            ],
            "application/vnd.google.colaboratory.intrinsic+json": {
              "type": "string"
            }
          },
          "metadata": {},
          "execution_count": 6
        }
      ]
    },
    {
      "cell_type": "markdown",
      "source": [
        "# Tokenize the inputs and outputs"
      ],
      "metadata": {
        "id": "H76RdvvEdS42"
      }
    },
    {
      "cell_type": "code",
      "source": [
        "# tokenize the inputs\n",
        "tokenizer_inputs = Tokenizer(num_words=MAX_NUM_WORDS)\n",
        "tokenizer_inputs.fit_on_texts(input_texts)\n",
        "input_sequences = tokenizer_inputs.texts_to_sequences(input_texts)\n",
        "# get the word to index mapping for input language\n",
        "word2idx_inputs = tokenizer_inputs.word_index\n",
        "print('Found %s unique input tokens.' % len(word2idx_inputs))\n",
        "\n",
        "# determine maximum length input sequence\n",
        "max_len_input = max(len(s) for s in input_sequences)"
      ],
      "metadata": {
        "colab": {
          "base_uri": "https://localhost:8080/"
        },
        "id": "j0U9wfyCdr-d",
        "outputId": "517f02e6-6161-4fda-8d70-5f498c0afc7b"
      },
      "execution_count": 8,
      "outputs": [
        {
          "output_type": "stream",
          "name": "stdout",
          "text": [
            "Found 2494 unique input tokens.\n"
          ]
        }
      ]
    },
    {
      "cell_type": "code",
      "source": [
        "# tokenize the outputs\n",
        "# don't filter out special characters\n",
        "# otherwise <sos> and <eos> won't appear\n",
        "tokenizer_outputs = Tokenizer(num_words=MAX_NUM_WORDS, filters='')\n",
        "tokenizer_outputs.fit_on_texts(target_texts + target_texts_inputs)\n",
        "target_sequences = tokenizer_outputs.texts_to_sequences(target_texts)\n",
        "target_sequences_inputs = tokenizer_outputs.texts_to_sequences(target_texts_inputs)"
      ],
      "metadata": {
        "id": "RhLg7xKDcpnm"
      },
      "execution_count": 9,
      "outputs": []
    },
    {
      "cell_type": "code",
      "source": [
        "# get the word to index mapping for output language\n",
        "word2idx_outputs = tokenizer_outputs.word_index\n",
        "print('Found %s unique output tokens.' % len(word2idx_outputs))\n",
        "\n",
        "# store number of output words for later\n",
        "# remember to add 1 since indexing starts at 1\n",
        "num_words_output = len(word2idx_outputs) + 1\n",
        "\n",
        "# determine maximum length output sequence\n",
        "max_len_target = max(len(s) for s in target_sequences)"
      ],
      "metadata": {
        "colab": {
          "base_uri": "https://localhost:8080/"
        },
        "id": "JtXka74advz5",
        "outputId": "b3576d1f-a80f-4223-8800-efeaf4a5ca34"
      },
      "execution_count": 10,
      "outputs": [
        {
          "output_type": "stream",
          "name": "stdout",
          "text": [
            "Found 6378 unique output tokens.\n"
          ]
        }
      ]
    },
    {
      "cell_type": "markdown",
      "source": [
        "## Pad the sequences"
      ],
      "metadata": {
        "id": "LJ8rmn4xd5JA"
      }
    },
    {
      "cell_type": "code",
      "source": [
        "# pad the sequences\n",
        "encoder_inputs = pad_sequences(input_sequences, maxlen=max_len_input)\n",
        "print(\"encoder_inputs.shape:\", encoder_inputs.shape)\n",
        "print(\"encoder_inputs[0]:\", encoder_inputs[0])\n",
        "\n",
        "decoder_inputs = pad_sequences(target_sequences_inputs, maxlen=max_len_target, padding='post')\n",
        "print(\"decoder_inputs[0]:\", decoder_inputs[0])\n",
        "print(\"decoder_inputs.shape:\", decoder_inputs.shape)\n",
        "\n",
        "decoder_targets = pad_sequences(target_sequences, maxlen=max_len_target, padding='post')"
      ],
      "metadata": {
        "colab": {
          "base_uri": "https://localhost:8080/"
        },
        "id": "J89Wy_C8d0O7",
        "outputId": "d2774393-cb47-415a-b9d4-ec42b0bee97b"
      },
      "execution_count": 11,
      "outputs": [
        {
          "output_type": "stream",
          "name": "stdout",
          "text": [
            "encoder_inputs.shape: (10000, 6)\n",
            "encoder_inputs[0]: [ 0  0  0  0  0 18]\n",
            "decoder_inputs[0]: [   2 2564    0    0    0    0    0    0    0]\n",
            "decoder_inputs.shape: (10000, 9)\n"
          ]
        }
      ]
    },
    {
      "cell_type": "markdown",
      "source": [
        "# Load pretrained word vector Glove6B"
      ],
      "metadata": {
        "id": "nPcXL0DmeDyb"
      }
    },
    {
      "cell_type": "code",
      "source": [
        "!wget https://downloads.cs.stanford.edu/nlp/data/glove.6B.zip\n",
        "!unzip -q glove.6B.zip"
      ],
      "metadata": {
        "colab": {
          "base_uri": "https://localhost:8080/"
        },
        "id": "QY_Ch6Dhd626",
        "outputId": "74c47010-28b9-4d63-eec5-98e459a198c0"
      },
      "execution_count": 12,
      "outputs": [
        {
          "output_type": "stream",
          "name": "stdout",
          "text": [
            "--2024-03-19 11:30:50--  https://downloads.cs.stanford.edu/nlp/data/glove.6B.zip\n",
            "Resolving downloads.cs.stanford.edu (downloads.cs.stanford.edu)... 171.64.64.22\n",
            "Connecting to downloads.cs.stanford.edu (downloads.cs.stanford.edu)|171.64.64.22|:443... connected.\n",
            "HTTP request sent, awaiting response... 200 OK\n",
            "Length: 862182613 (822M) [application/zip]\n",
            "Saving to: ‘glove.6B.zip’\n",
            "\n",
            "glove.6B.zip        100%[===================>] 822.24M  5.01MB/s    in 2m 39s  \n",
            "\n",
            "2024-03-19 11:33:29 (5.16 MB/s) - ‘glove.6B.zip’ saved [862182613/862182613]\n",
            "\n"
          ]
        }
      ]
    },
    {
      "cell_type": "code",
      "source": [
        "# store all the pre-trained word vectors\n",
        "print('Loading word vectors...')\n",
        "word2vec = {}\n",
        "with open(os.path.join('glove.6B.%sd.txt' % EMBEDDING_DIM)) as f:\n",
        "  # is just a space-separated text file in the format:\n",
        "  # word vec[0] vec[1] vec[2] ...\n",
        "  for line in f:\n",
        "    values = line.split()\n",
        "    word = values[0]\n",
        "    vec = np.asarray(values[1:], dtype='float32')\n",
        "    word2vec[word] = vec\n",
        "print('Found %s word vectors.' % len(word2vec))"
      ],
      "metadata": {
        "colab": {
          "base_uri": "https://localhost:8080/"
        },
        "id": "Mw5ozZ-Vem_x",
        "outputId": "1c5a29da-3344-47be-f5c8-813bca1b0fb8"
      },
      "execution_count": 16,
      "outputs": [
        {
          "output_type": "stream",
          "name": "stdout",
          "text": [
            "Loading word vectors...\n",
            "Found 400000 word vectors.\n"
          ]
        }
      ]
    },
    {
      "cell_type": "code",
      "source": [
        "list(word2vec.keys())[12:20]"
      ],
      "metadata": {
        "colab": {
          "base_uri": "https://localhost:8080/"
        },
        "id": "YpdXuSeKfd-R",
        "outputId": "0b024ac7-7799-4f3c-bcf7-680407fd2fb3"
      },
      "execution_count": 21,
      "outputs": [
        {
          "output_type": "execute_result",
          "data": {
            "text/plain": [
              "['that', 'on', 'is', 'was', 'said', 'with', 'he', 'as']"
            ]
          },
          "metadata": {},
          "execution_count": 21
        }
      ]
    },
    {
      "cell_type": "code",
      "source": [
        "list(word2vec.items())[12], list(word2vec.values())[12].shape"
      ],
      "metadata": {
        "colab": {
          "base_uri": "https://localhost:8080/"
        },
        "id": "dnJTzc_Gf2TU",
        "outputId": "113118c1-3900-478c-c21e-db4cc0cff811"
      },
      "execution_count": 23,
      "outputs": [
        {
          "output_type": "execute_result",
          "data": {
            "text/plain": [
              "(('that',\n",
              "  array([-9.3337e-02,  1.9043e-01,  6.8457e-01, -4.1548e-01, -2.2777e-01,\n",
              "         -1.1803e-01, -9.5434e-02,  1.9613e-01,  1.7785e-01, -2.0244e-02,\n",
              "         -5.5409e-02,  3.3867e-01,  7.9396e-01, -4.7126e-02,  4.4281e-01,\n",
              "         -6.1266e-02,  2.0796e-01,  3.4094e-02, -6.4751e-01,  3.5874e-01,\n",
              "          1.3936e-01, -6.8310e-01,  2.5596e-01, -1.2911e-01,  2.6080e-01,\n",
              "         -1.1674e-01,  2.4925e-02, -6.0259e-01, -4.1474e-01, -5.1104e-01,\n",
              "          1.4936e-01,  7.9977e-01, -1.2716e-01,  4.0474e-01, -2.1435e-01,\n",
              "          4.7031e-01,  4.9000e-01,  4.8886e-01, -1.7772e-01, -1.8861e-01,\n",
              "         -7.8391e-01, -1.4158e-01,  2.2169e-01, -2.2078e-01, -3.0509e-01,\n",
              "         -1.0837e-01,  5.7168e-01, -7.8320e-01, -1.6328e-01, -7.6131e-01,\n",
              "          8.0873e-02,  6.7217e-04,  4.4713e-01,  1.3434e+00, -2.0014e-01,\n",
              "         -2.8680e+00, -2.6470e-03, -3.9858e-01,  1.8379e+00,  1.2211e+00,\n",
              "         -1.6066e-01,  6.5853e-01,  2.6946e-01,  2.7212e-01,  9.4735e-01,\n",
              "          2.4372e-01,  8.1940e-01,  6.7740e-01,  6.3485e-02, -5.5934e-01,\n",
              "          4.5541e-01, -6.4684e-01, -3.4702e-02, -4.5566e-01,  2.1847e-01,\n",
              "         -5.1689e-02,  3.2299e-01, -2.2961e-02, -1.7955e+00,  3.1217e-01,\n",
              "          7.6227e-01, -2.3191e-01, -1.0133e+00, -6.4374e-03, -1.8135e+00,\n",
              "         -7.5221e-01,  2.8362e-01, -3.0815e-01, -4.3853e-01, -6.2654e-01,\n",
              "          1.3213e-01, -5.4725e-01, -4.7478e-01, -7.9727e-03, -1.5112e-01,\n",
              "         -2.9326e-01, -3.5118e-01, -6.8175e-01,  2.8804e-01,  5.4893e-01],\n",
              "        dtype=float32)),\n",
              " (100,))"
            ]
          },
          "metadata": {},
          "execution_count": 23
        }
      ]
    },
    {
      "cell_type": "code",
      "source": [
        "# prepare embedding matrix\n",
        "print('Filling pre-trained embeddings...')\n",
        "num_words = min(MAX_NUM_WORDS, len(word2idx_inputs) + 1)\n",
        "embedding_matrix = np.zeros((num_words, EMBEDDING_DIM))\n",
        "for word, i in word2idx_inputs.items():\n",
        "  if i < MAX_NUM_WORDS:\n",
        "    embedding_vector = word2vec.get(word)\n",
        "    if embedding_vector is not None:\n",
        "      # words not found in embedding index will be all zeros.\n",
        "      embedding_matrix[i] = embedding_vector"
      ],
      "metadata": {
        "colab": {
          "base_uri": "https://localhost:8080/"
        },
        "id": "JXbVKaOUes8t",
        "outputId": "5dc34ac5-6b9f-440d-e9f0-462f016508e2"
      },
      "execution_count": 24,
      "outputs": [
        {
          "output_type": "stream",
          "name": "stdout",
          "text": [
            "Filling pre-trained embeddings...\n"
          ]
        }
      ]
    },
    {
      "cell_type": "markdown",
      "source": [
        "# Buid the model"
      ],
      "metadata": {
        "id": "twgQAeJWfNxV"
      }
    },
    {
      "cell_type": "code",
      "source": [
        "# create embedding layer\n",
        "embedding_layer = Embedding(\n",
        "  num_words,\n",
        "  EMBEDDING_DIM,\n",
        "  weights=[embedding_matrix],\n",
        "  input_length=max_len_input,\n",
        "  # trainable=True\n",
        ")\n"
      ],
      "metadata": {
        "id": "_jhJ-1bWfJWv"
      },
      "execution_count": 25,
      "outputs": []
    },
    {
      "cell_type": "code",
      "source": [
        "# create targets, since we cannot use sparse\n",
        "# categorical cross entropy when we have sequences\n",
        "decoder_targets_one_hot = np.zeros(\n",
        "  (\n",
        "    len(input_texts),\n",
        "    max_len_target,\n",
        "    num_words_output\n",
        "  ),\n",
        "  dtype='float32'\n",
        ")\n",
        "\n",
        "# assign the values\n",
        "for i, d in enumerate(decoder_targets):\n",
        "  for t, word in enumerate(d):\n",
        "    if word != 0:\n",
        "      decoder_targets_one_hot[i, t, word] = 1"
      ],
      "metadata": {
        "id": "WB29eWDhfUtX"
      },
      "execution_count": 26,
      "outputs": []
    },
    {
      "cell_type": "markdown",
      "source": [
        "## Define all the layers of the encoder-decoder"
      ],
      "metadata": {
        "id": "wAfhaauAgYkd"
      }
    },
    {
      "cell_type": "code",
      "source": [
        "##### build the model #####\n",
        "encoder_inputs_placeholder = Input(shape=(max_len_input,))\n",
        "x = embedding_layer(encoder_inputs_placeholder)\n",
        "encoder = LSTM(\n",
        "  LATENT_DIM,\n",
        "  return_state=True,\n",
        "  # dropout=0.5 # dropout not available on gpu\n",
        ")\n",
        "encoder_outputs, h, c = encoder(x)\n",
        "# encoder_outputs, h = encoder(x) #gru\n",
        "\n",
        "# keep only the states to pass into decoder\n",
        "encoder_states = [h, c]\n",
        "# encoder_states = [state_h] # gru\n",
        "\n",
        "# Set up the decoder, using [h, c] as initial state.\n",
        "decoder_inputs_placeholder = Input(shape=(max_len_target,))\n",
        "\n",
        "# this word embedding will not use pre-trained vectors\n",
        "# although you could\n",
        "decoder_embedding = Embedding(num_words_output, EMBEDDING_DIM)\n",
        "decoder_inputs_x = decoder_embedding(decoder_inputs_placeholder)\n",
        "\n",
        "# since the decoder is a \"to-many\" model we want to have\n",
        "# return_sequences=True\n",
        "decoder_lstm = LSTM(\n",
        "  LATENT_DIM,\n",
        "  return_sequences=True,\n",
        "  return_state=True,\n",
        "  # dropout=0.5 # dropout not available on gpu\n",
        ")\n",
        "decoder_outputs, _, _ = decoder_lstm(\n",
        "  decoder_inputs_x,\n",
        "  initial_state=encoder_states\n",
        ")\n",
        "\n",
        "# decoder_outputs, _ = decoder_gru(\n",
        "#   decoder_inputs_x,\n",
        "#   initial_state=encoder_states\n",
        "# )\n",
        "\n",
        "# final dense layer for predictions\n",
        "decoder_dense = Dense(num_words_output, activation='softmax')\n",
        "decoder_outputs = decoder_dense(decoder_outputs)\n"
      ],
      "metadata": {
        "id": "vGZH5emsfWD1"
      },
      "execution_count": 27,
      "outputs": []
    },
    {
      "cell_type": "code",
      "source": [
        "# Create the model object\n",
        "model = Model([encoder_inputs_placeholder, decoder_inputs_placeholder], decoder_outputs)"
      ],
      "metadata": {
        "id": "QJ92ARHjfcY6"
      },
      "execution_count": 28,
      "outputs": []
    },
    {
      "cell_type": "markdown",
      "source": [
        "# Train the model"
      ],
      "metadata": {
        "id": "Ij4GIxtQgpnL"
      }
    },
    {
      "cell_type": "code",
      "source": [
        "def custom_loss(y_true, y_pred):\n",
        "  # both are of shape N x T x K\n",
        "  mask = K.cast(y_true > 0, dtype='float32')\n",
        "  out = mask * y_true * K.log(y_pred)\n",
        "  return -K.sum(out) / K.sum(mask)\n",
        "\n",
        "\n",
        "def acc(y_true, y_pred):\n",
        "  # both are of shape N x T x K\n",
        "  targ = K.argmax(y_true, axis=-1)\n",
        "  pred = K.argmax(y_pred, axis=-1)\n",
        "  correct = K.cast(K.equal(targ, pred), dtype='float32')\n",
        "\n",
        "  # 0 is padding, don't include those\n",
        "  mask = K.cast(K.greater(targ, 0), dtype='float32')\n",
        "  n_correct = K.sum(mask * correct)\n",
        "  n_total = K.sum(mask)\n",
        "  return n_correct / n_total"
      ],
      "metadata": {
        "id": "79z4qPm0ghw0"
      },
      "execution_count": 29,
      "outputs": []
    },
    {
      "cell_type": "code",
      "source": [
        "model.compile(optimizer='adam', loss=custom_loss, metrics=[acc])\n",
        "\n",
        "r = model.fit(\n",
        "  [encoder_inputs, decoder_inputs], decoder_targets_one_hot,\n",
        "  batch_size=BATCH_SIZE,\n",
        "  epochs=EPOCHS,\n",
        "  validation_split=0.2,\n",
        ")"
      ],
      "metadata": {
        "colab": {
          "base_uri": "https://localhost:8080/"
        },
        "id": "JRf-N02Sg0N0",
        "outputId": "da6929ee-6a96-4615-d21c-0aa705a2c8d8"
      },
      "execution_count": 30,
      "outputs": [
        {
          "output_type": "stream",
          "name": "stdout",
          "text": [
            "Epoch 1/40\n",
            "125/125 [==============================] - 31s 210ms/step - loss: 5.9556 - acc: 0.2679 - val_loss: 5.6233 - val_acc: 0.2585\n",
            "Epoch 2/40\n",
            "125/125 [==============================] - 8s 61ms/step - loss: 4.9585 - acc: 0.2916 - val_loss: 5.3563 - val_acc: 0.2842\n",
            "Epoch 3/40\n",
            "125/125 [==============================] - 7s 59ms/step - loss: 4.5963 - acc: 0.3133 - val_loss: 5.2264 - val_acc: 0.3075\n",
            "Epoch 4/40\n",
            "125/125 [==============================] - 6s 49ms/step - loss: 4.3039 - acc: 0.3383 - val_loss: 5.0913 - val_acc: 0.3171\n",
            "Epoch 5/40\n",
            "125/125 [==============================] - 3s 28ms/step - loss: 4.0164 - acc: 0.3690 - val_loss: 4.9572 - val_acc: 0.3391\n",
            "Epoch 6/40\n",
            "125/125 [==============================] - 3s 27ms/step - loss: 3.7545 - acc: 0.4011 - val_loss: 4.8511 - val_acc: 0.3608\n",
            "Epoch 7/40\n",
            "125/125 [==============================] - 4s 36ms/step - loss: 3.5250 - acc: 0.4251 - val_loss: 4.8074 - val_acc: 0.3685\n",
            "Epoch 8/40\n",
            "125/125 [==============================] - 4s 35ms/step - loss: 3.3117 - acc: 0.4461 - val_loss: 4.7473 - val_acc: 0.3815\n",
            "Epoch 9/40\n",
            "125/125 [==============================] - 4s 34ms/step - loss: 3.1114 - acc: 0.4658 - val_loss: 4.7108 - val_acc: 0.3893\n",
            "Epoch 10/40\n",
            "125/125 [==============================] - 5s 42ms/step - loss: 2.9218 - acc: 0.4848 - val_loss: 4.6811 - val_acc: 0.4019\n",
            "Epoch 11/40\n",
            "125/125 [==============================] - 4s 29ms/step - loss: 2.7387 - acc: 0.5037 - val_loss: 4.6759 - val_acc: 0.4036\n",
            "Epoch 12/40\n",
            "125/125 [==============================] - 3s 27ms/step - loss: 2.5613 - acc: 0.5201 - val_loss: 4.6475 - val_acc: 0.4166\n",
            "Epoch 13/40\n",
            "125/125 [==============================] - 3s 28ms/step - loss: 2.3881 - acc: 0.5402 - val_loss: 4.6696 - val_acc: 0.4154\n",
            "Epoch 14/40\n",
            "125/125 [==============================] - 4s 34ms/step - loss: 2.2220 - acc: 0.5605 - val_loss: 4.6454 - val_acc: 0.4169\n",
            "Epoch 15/40\n",
            "125/125 [==============================] - 6s 49ms/step - loss: 2.0631 - acc: 0.5796 - val_loss: 4.6559 - val_acc: 0.4231\n",
            "Epoch 16/40\n",
            "125/125 [==============================] - 6s 45ms/step - loss: 1.9105 - acc: 0.5998 - val_loss: 4.6695 - val_acc: 0.4201\n",
            "Epoch 17/40\n",
            "125/125 [==============================] - 7s 60ms/step - loss: 1.7701 - acc: 0.6217 - val_loss: 4.6741 - val_acc: 0.4230\n",
            "Epoch 18/40\n",
            "125/125 [==============================] - 6s 45ms/step - loss: 1.6337 - acc: 0.6459 - val_loss: 4.6978 - val_acc: 0.4217\n",
            "Epoch 19/40\n",
            "125/125 [==============================] - 6s 51ms/step - loss: 1.5089 - acc: 0.6659 - val_loss: 4.7178 - val_acc: 0.4229\n",
            "Epoch 20/40\n",
            "125/125 [==============================] - 3s 28ms/step - loss: 1.3916 - acc: 0.6898 - val_loss: 4.7203 - val_acc: 0.4264\n",
            "Epoch 21/40\n",
            "125/125 [==============================] - 3s 27ms/step - loss: 1.2803 - acc: 0.7121 - val_loss: 4.7524 - val_acc: 0.4229\n",
            "Epoch 22/40\n",
            "125/125 [==============================] - 3s 28ms/step - loss: 1.1787 - acc: 0.7358 - val_loss: 4.7840 - val_acc: 0.4201\n",
            "Epoch 23/40\n",
            "125/125 [==============================] - 5s 40ms/step - loss: 1.0839 - acc: 0.7525 - val_loss: 4.7712 - val_acc: 0.4199\n",
            "Epoch 24/40\n",
            "125/125 [==============================] - 5s 37ms/step - loss: 0.9949 - acc: 0.7753 - val_loss: 4.8081 - val_acc: 0.4173\n",
            "Epoch 25/40\n",
            "125/125 [==============================] - 5s 40ms/step - loss: 0.9187 - acc: 0.7898 - val_loss: 4.8594 - val_acc: 0.4175\n",
            "Epoch 26/40\n",
            "125/125 [==============================] - 3s 26ms/step - loss: 0.8472 - acc: 0.8036 - val_loss: 4.8975 - val_acc: 0.4170\n",
            "Epoch 27/40\n",
            "125/125 [==============================] - 3s 27ms/step - loss: 0.7806 - acc: 0.8188 - val_loss: 4.9054 - val_acc: 0.4150\n",
            "Epoch 28/40\n",
            "125/125 [==============================] - 3s 26ms/step - loss: 0.7230 - acc: 0.8304 - val_loss: 4.9190 - val_acc: 0.4142\n",
            "Epoch 29/40\n",
            "125/125 [==============================] - 4s 36ms/step - loss: 0.6693 - acc: 0.8408 - val_loss: 4.9437 - val_acc: 0.4133\n",
            "Epoch 30/40\n",
            "125/125 [==============================] - 4s 33ms/step - loss: 0.6208 - acc: 0.8507 - val_loss: 4.9797 - val_acc: 0.4087\n",
            "Epoch 31/40\n",
            "125/125 [==============================] - 4s 32ms/step - loss: 0.5794 - acc: 0.8598 - val_loss: 4.9977 - val_acc: 0.4114\n",
            "Epoch 32/40\n",
            "125/125 [==============================] - 5s 37ms/step - loss: 0.5392 - acc: 0.8664 - val_loss: 5.0045 - val_acc: 0.4122\n",
            "Epoch 33/40\n",
            "125/125 [==============================] - 3s 26ms/step - loss: 0.5036 - acc: 0.8730 - val_loss: 5.0374 - val_acc: 0.4131\n",
            "Epoch 34/40\n",
            "125/125 [==============================] - 3s 27ms/step - loss: 0.4704 - acc: 0.8781 - val_loss: 5.0474 - val_acc: 0.4120\n",
            "Epoch 35/40\n",
            "125/125 [==============================] - 3s 26ms/step - loss: 0.4405 - acc: 0.8838 - val_loss: 5.0747 - val_acc: 0.4148\n",
            "Epoch 36/40\n",
            "125/125 [==============================] - 4s 36ms/step - loss: 0.4166 - acc: 0.8879 - val_loss: 5.0973 - val_acc: 0.4131\n",
            "Epoch 37/40\n",
            "125/125 [==============================] - 5s 37ms/step - loss: 0.3936 - acc: 0.8913 - val_loss: 5.1278 - val_acc: 0.4113\n",
            "Epoch 38/40\n",
            "125/125 [==============================] - 5s 37ms/step - loss: 0.3730 - acc: 0.8922 - val_loss: 5.1404 - val_acc: 0.4121\n",
            "Epoch 39/40\n",
            "125/125 [==============================] - 4s 31ms/step - loss: 0.3561 - acc: 0.8949 - val_loss: 5.1389 - val_acc: 0.4127\n",
            "Epoch 40/40\n",
            "125/125 [==============================] - 5s 41ms/step - loss: 0.3378 - acc: 0.8976 - val_loss: 5.1834 - val_acc: 0.4149\n"
          ]
        }
      ]
    },
    {
      "cell_type": "code",
      "source": [
        "# plot some data\n",
        "plt.plot(r.history['loss'], label='loss')\n",
        "plt.plot(r.history['val_loss'], label='val_loss')\n",
        "plt.legend()\n",
        "plt.show()\n"
      ],
      "metadata": {
        "colab": {
          "base_uri": "https://localhost:8080/",
          "height": 430
        },
        "id": "qGVKSZZrg1F7",
        "outputId": "b1a09134-fd26-4aa5-cbcf-840373c39b1b"
      },
      "execution_count": 32,
      "outputs": [
        {
          "output_type": "display_data",
          "data": {
            "text/plain": [
              "<Figure size 640x480 with 1 Axes>"
            ],
            "image/png": "[encoded data removed]"
          },
          "metadata": {}
        }
      ]
    },
    {
      "cell_type": "code",
      "source": [
        "\n",
        "# accuracies\n",
        "#plt.plot(r.history['accuracy'], label='acc')\n",
        "#plt.plot(r.history['val_accuracy'], label='val_acc')\n",
        "#plt.legend()\n",
        "#plt.show()"
      ],
      "metadata": {
        "id": "EHYYnANMhuk6"
      },
      "execution_count": 34,
      "outputs": []
    },
    {
      "cell_type": "code",
      "source": [
        "# Save model\n",
        "model.save('seq2seq_LSTM.h5')"
      ],
      "metadata": {
        "colab": {
          "base_uri": "https://localhost:8080/"
        },
        "id": "TyhjU9gXg41n",
        "outputId": "55265b6f-768e-424a-91d7-7e5f47172e93"
      },
      "execution_count": 38,
      "outputs": [
        {
          "output_type": "stream",
          "name": "stderr",
          "text": [
            "/usr/local/lib/python3.10/dist-packages/keras/src/engine/training.py:3103: UserWarning: You are saving your model as an HDF5 file via `model.save()`. This file format is considered legacy. We recommend using instead the native Keras format, e.g. `model.save('my_model.keras')`.\n",
            "  saving_api.save_model(\n"
          ]
        }
      ]
    },
    {
      "cell_type": "markdown",
      "source": [
        "# Make predictions"
      ],
      "metadata": {
        "id": "bqSooGA_hM4P"
      }
    },
    {
      "cell_type": "code",
      "source": [
        "# TO BE CONTINUED"
      ],
      "metadata": {
        "id": "HyLgrjxJhA7G"
      },
      "execution_count": null,
      "outputs": []
    }
  ]
}